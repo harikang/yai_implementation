{
  "nbformat": 4,
  "nbformat_minor": 0,
  "metadata": {
    "colab": {
      "provenance": [],
      "gpuType": "T4"
    },
    "kernelspec": {
      "name": "python3",
      "display_name": "Python 3"
    },
    "language_info": {
      "name": "python"
    },
    "accelerator": "GPU"
  },
  "cells": [
    {
      "cell_type": "markdown",
      "source": [
        "# Transformer\n",
        "파라미터는 아래 그림처럼 논문과 동일하게 설정하였다.\n",
        "\n",
        "![parameter.png](data:image/png;base64,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)"
      ],
      "metadata": {
        "id": "aMFgy2FynFzX"
      }
    },
    {
      "cell_type": "code",
      "source": [
        "import torch\n",
        "from torch import nn"
      ],
      "metadata": {
        "id": "Y2b-ZOLAnShJ"
      },
      "execution_count": null,
      "outputs": []
    },
    {
      "cell_type": "markdown",
      "source": [],
      "metadata": {
        "id": "mtD1iuKDn4Hh"
      }
    },
    {
      "cell_type": "markdown",
      "source": [
        "# Positional Encoding\n",
        "\n",
        "![positionalencoding.png](data:image/png;base64,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)"
      ],
      "metadata": {
        "id": "VvR9Q9NWnLVE"
      }
    },
    {
      "cell_type": "code",
      "execution_count": null,
      "metadata": {
        "id": "Of1_tc6cm6ZS"
      },
      "outputs": [],
      "source": [
        "class PositionalEncoding(nn.Module):\n",
        "   def __init__(self, d_model, max_len, device):\n",
        "        super(PositionalEncoding, self).__init__()\n",
        "        # positional encoding은 input embedding과 elementwise더해져야한다.\n",
        "        # encoding = [단어의 개수 x 단어 별 차원]\n",
        "        self.encoding = torch.zeros(max_len, d_model, device=device) #설정된 문장의 최대길이 x 512\n",
        "        self.encoding.requires_grad = False  # we don't need to compute gradient\n",
        "\n",
        "        pos = torch.arange(0, max_len, device=device)#0부터 max_length까지 1씩 증가하여 쌓임\n",
        "        pos = pos.float().unsqueeze(dim=1) # pos = [max_length x 1]차원\n",
        "       #0부터 d_model까지 2 간격으로 순서대로 쌓임\n",
        "        _2i = torch.arange(0, d_model, step=2, device=device).float()\n",
        "        # 'i' means index of d_model (e.g. embedding size = 50, 'i' = [0,50])\n",
        "        # \"step=2\" means 'i' multiplied with two (same with 2 * i)\n",
        "        #아래 코드가 PE 코드를 의미하며 PE[단어의 개수 X 단어의 차원]\n",
        "        #단어 별 FEATURE가 짝수일 때,\n",
        "        self.encoding[:, 0::2] = torch.sin(pos / (10000 ** (_2i / d_model)))\n",
        "        #단어 별 FEATURE가 홀수일 때,\n",
        "        self.encoding[:, 1::2] = torch.cos(pos / (10000 ** (_2i / d_model)))\n",
        "        # compute positional encoding to consider positional information of words\n",
        "\n",
        "    def forward(self, x):\n",
        "        batch_size, seq_len = x.size()\n",
        "        # [batch_size = 문장의 개수, seq_len = 문장 별 단어의 최대 개수]\n",
        "        return self.encoding[:seq_len, :]\n",
        "        # [max_len, 단어의 차원]\n",
        "        #단어의 특징을 나타내는 차원마다 주파수가 고정된다.\n",
        "        #단어의 순서에 따라 pos값이 변하면서 다른 값으로 지정된다.\n",
        "        #즉, 다른 문장의 같은 위치의 특정 차원은 같은 값을 가짐"
      ]
    },
    {
      "cell_type": "markdown",
      "source": [
        "# Input Embedding"
      ],
      "metadata": {
        "id": "xEw96Ti4nVdA"
      }
    },
    {
      "cell_type": "code",
      "source": [
        "self.input_embedding = nn.Embedding(src_dim, hidden_dim)\n",
        "#소스의 차원(사전단어수)->hidden_dim"
      ],
      "metadata": {
        "id": "TEOQuh_0nFJQ"
      },
      "execution_count": null,
      "outputs": []
    },
    {
      "cell_type": "markdown",
      "source": [
        "# MHA"
      ],
      "metadata": {
        "id": "j0uhtgueqKQO"
      }
    },
    {
      "cell_type": "code",
      "source": [
        "class MHA(nn.Module):\n",
        "    def __init__(self, hidden_dim, n_heads):\n",
        "        super().__init__()\n",
        "\n",
        "        self.hidden_dim = hidden_dim\n",
        "        self.n_heads = n_heads\n",
        "        self.head_dim = int(hidden_dim / n_heads) #각 head의 dimension ex)512/8=64\n",
        "\n",
        "        self.w_q = nn.Linear(hidden_dim, hidden_dim)\n",
        "        self.w_k = nn.Linear(hidden_dim, hidden_dim)\n",
        "        self.w_v = nn.Linear(hidden_dim, hidden_dim)\n",
        "        self.w_o = nn.Linear(hidden_dim, hidden_dim)\n",
        "\n",
        "        self.scale = torch.sqrt(torch.tensor(self.head_dim)).to(DEVICE)\n",
        "\n",
        "def forward(self, Q, K, V, mask = None):\n",
        "\n",
        "        batch_size = Q.shape[0] #문장의 개수\n",
        "\n",
        "        Q = self.w_q(Q) # 문장의 개수 x 단어의 개수 x 512\n",
        "        K = self.w_k(K)\n",
        "        V = self.w_v(V)\n",
        "        #512차원으로 (Q,K,V)를 구한 후,8개의 head(64차원씩의 (Q,K,V))로 나눔\n",
        "        #[문장 x 단어 x헤드 x64]\n",
        "        # 그리고 QK^T연산을 위해서 헤드와 단어의 순서를 바꿈 by transpose(1,2)\n",
        "        #즉, [문장 x 헤드 x 단어 x 64]\n",
        "        Q = Q.view(batch_size, -1, self.n_heads, self.head_dim).transpose(1, 2)\n",
        "        K = K.view(batch_size, -1, self.n_heads, self.head_dim).transpose(1, 2)\n",
        "        V = V.view(batch_size, -1, self.n_heads, self.head_dim).transpose(1, 2)\n",
        "        #QK^T연산+정규화\n",
        "        attention_score = Q@K.permute(0,1,3,2)/self.scale # 문장 x 헤드 x 단어 x 단어\n",
        "\n",
        "        #mask는 뒤에서 다루겠지만, mask를 해주어야하면\n",
        "        #그 값을 터무늬없이 작은 값으로 대체하여 softmax를 지나고 나면 고려 안함.\n",
        "        if mask is not None:\n",
        "            attention_score[mask] = -1e10 # mask.shape = 문장 x 헤드 x 단어 x 단어\n",
        "\n",
        "        # attention score의 가로축에 대해서 softmax\n",
        "        attention_dist = torch.softmax(attention_score, dim=-1)\n",
        "\n",
        "\n",
        "        attention = attention_dist @ V # 계산된 값[문헤단단]을 v벡터[문헤단64]와 곱함.\n",
        "                                       # attention.shape=[문장 x 헤드 x 단어 x 헤드 별 차원]\n",
        "\n",
        "        x = attention.transpose(1,2).contiguous() # [문장 x 단어 x헤드 x헤드별 차원(64)]\n",
        "        x = x.view(batch_size, -1, self.hidden_dim) # [문장 x 단어 x 차원(512)]\n",
        "        #위까지가 scaled dot-product attention!\n",
        "        x = self.fc_o(x) # [문장 x 단어 x 차원(512)]\n",
        "        return x, attention_dist"
      ],
      "metadata": {
        "colab": {
          "base_uri": "https://localhost:8080/",
          "height": 219
        },
        "id": "oC8AOVttqLnd",
        "outputId": "6d7d687b-0fd7-47c1-a439-880faebfcaec"
      },
      "execution_count": 1,
      "outputs": [
        {
          "output_type": "error",
          "ename": "NameError",
          "evalue": "name 'nn' is not defined",
          "traceback": [
            "\u001b[0;31m---------------------------------------------------------------------------\u001b[0m",
            "\u001b[0;31mNameError\u001b[0m                                 Traceback (most recent call last)",
            "\u001b[0;32m<ipython-input-1-dbaeaf6b7e7f>\u001b[0m in \u001b[0;36m<cell line: 1>\u001b[0;34m()\u001b[0m\n\u001b[0;32m----> 1\u001b[0;31m \u001b[0;32mclass\u001b[0m \u001b[0mMHA\u001b[0m\u001b[0;34m(\u001b[0m\u001b[0mnn\u001b[0m\u001b[0;34m.\u001b[0m\u001b[0mModule\u001b[0m\u001b[0;34m)\u001b[0m\u001b[0;34m:\u001b[0m\u001b[0;34m\u001b[0m\u001b[0;34m\u001b[0m\u001b[0m\n\u001b[0m\u001b[1;32m      2\u001b[0m     \u001b[0;32mdef\u001b[0m \u001b[0m__init__\u001b[0m\u001b[0;34m(\u001b[0m\u001b[0mself\u001b[0m\u001b[0;34m,\u001b[0m \u001b[0mhidden_dim\u001b[0m\u001b[0;34m,\u001b[0m \u001b[0mn_heads\u001b[0m\u001b[0;34m)\u001b[0m\u001b[0;34m:\u001b[0m\u001b[0;34m\u001b[0m\u001b[0;34m\u001b[0m\u001b[0m\n\u001b[1;32m      3\u001b[0m         \u001b[0msuper\u001b[0m\u001b[0;34m(\u001b[0m\u001b[0;34m)\u001b[0m\u001b[0;34m.\u001b[0m\u001b[0m__init__\u001b[0m\u001b[0;34m(\u001b[0m\u001b[0;34m)\u001b[0m\u001b[0;34m\u001b[0m\u001b[0;34m\u001b[0m\u001b[0m\n\u001b[1;32m      4\u001b[0m \u001b[0;34m\u001b[0m\u001b[0m\n\u001b[1;32m      5\u001b[0m         \u001b[0mself\u001b[0m\u001b[0;34m.\u001b[0m\u001b[0mhidden_dim\u001b[0m \u001b[0;34m=\u001b[0m \u001b[0mhidden_dim\u001b[0m\u001b[0;34m\u001b[0m\u001b[0;34m\u001b[0m\u001b[0m\n",
            "\u001b[0;31mNameError\u001b[0m: name 'nn' is not defined"
          ]
        }
      ]
    },
    {
      "cell_type": "markdown",
      "source": [
        "# FFN"
      ],
      "metadata": {
        "id": "utrOL56IqUIN"
      }
    },
    {
      "cell_type": "code",
      "source": [
        "class FeedForward(nn.Module):\n",
        "    def __init__(self, hidden_dim, ff_dim, drop_p):\n",
        "        super().__init__()\n",
        "\n",
        "        self.linear = nn.Sequential(nn.Linear(hidden_dim, ff_dim),\n",
        "                                    nn.ReLU(),\n",
        "                                    nn.Dropout(drop_p),\n",
        "                                    nn.Linear(ff_dim, hidden_dim))\n",
        "\n",
        "    def forward(self, x):\n",
        "        x = self.linear(x)\n",
        "        return x"
      ],
      "metadata": {
        "id": "kaSK5RGPqP0u"
      },
      "execution_count": null,
      "outputs": []
    },
    {
      "cell_type": "markdown",
      "source": [
        "\n",
        "\n",
        "> Layer Norm\n",
        "\n",
        "\n",
        "\n",
        "\n",
        "\n"
      ],
      "metadata": {
        "id": "CGRc9wv8qXTQ"
      }
    },
    {
      "cell_type": "code",
      "source": [
        "class LN(nn.Module):\n",
        "    def __init__(self, hid_dim):\n",
        "        super(LayerNorm, self).__init__()\n",
        "        self.gamma = nn.Parameter(torch.ones(hid_dim))\n",
        "        self.beta = nn.Parameter(torch.zeros(hid_dim))\n",
        "        self.eps = 1e-12\n",
        "\n",
        "    def forward(self, x):\n",
        "        mean = x.mean(-1, keepdim=True)\n",
        "        var = x.var(-1, unbiased=False, keepdim=True)\n",
        "\n",
        "        out = (x - mean) / torch.sqrt(var + self.eps)\n",
        "        out = self.gamma * out + self.beta\n",
        "        return out"
      ],
      "metadata": {
        "id": "21iizwHuqhvM"
      },
      "execution_count": null,
      "outputs": []
    },
    {
      "cell_type": "markdown",
      "source": [
        "# Encoder Layer"
      ],
      "metadata": {
        "id": "OKqKrCoyqjpr"
      }
    },
    {
      "cell_type": "code",
      "source": [
        "class EncoderLayer(nn.Module):\n",
        "    def __init__(self, hidden_dim, n_heads, ff_dim, drop_p):\n",
        "        super().__init__()\n",
        "\n",
        "        self.self_atten = MHA(hidden_dim, n_heads) #8개의 head별 attention을 구하고 add\n",
        "        self.self_atten_LN = LN(hidden_dim) # layer별로 norm\n",
        "\n",
        "        self.FF = FFN(hidden_dim, ff_dim, drop_p) #feed-forward를 거친 후\n",
        "        self.FF_LN = LN(hidden_dim) # layer별로 norm\n",
        "\n",
        "        self.dropout = nn.Dropout(drop_p)\n",
        "\n",
        "    def forward(self, x, enc_mask):\n",
        "\n",
        "        residual, atten_enc = self.self_atten(x, x, x, enc_mask)\n",
        "        residual = self.dropout(residual)\n",
        "        x = self.self_atten_LN(x + residual) #residual은 attention을 거친 결과이고, x는 원래 값\n",
        "                                             #두 값이 더해져서 LN을 거친다.\n",
        "        residual = self.FF(x)\n",
        "        residual = self.dropout(residual)\n",
        "        x = self.FF_LN(x + residual) # FF를 거치기 전 원본 X와 FF를 거친 residual이 더해져서\n",
        "                                     # LN을 거친다.\n",
        "        return x, atten_enc #atten_enc는 각 layer마다의 attention score를 보여줌.\n",
        "                            #이는 layer가 쌓일수록 attention의 양상을 확인하기 위해 넣음."
      ],
      "metadata": {
        "id": "hGF9zZVIqmcd"
      },
      "execution_count": null,
      "outputs": []
    },
    {
      "cell_type": "markdown",
      "source": [
        "# Encoder"
      ],
      "metadata": {
        "id": "4DOcLMY9qpCQ"
      }
    },
    {
      "cell_type": "code",
      "source": [
        "class Encoder(nn.Module):\n",
        "    def __init__(self, dic_dim, vocab_len, hid_dim, n_heads, n_layers, ff_dim, drop_p):\n",
        "        super().__init__()\n",
        "        #embedding은 input의 차원이 [문장 x 단어 x 1]로 단어별 index로 주어지거나\n",
        "        #아래의 경우는 one-hot encoding으로 주어져서([문장 x 단어 x 사전의 단어수])\n",
        "        #최종적인 결과는 [문장 x 단어 x hid_dim]이 됨.\n",
        "        self.input_embedding = nn.Embedding(dic_dim, hid_dim)\n",
        "        self.pos_embedding = nn.Embedding(vocab_len, hid_dim)\n",
        "\n",
        "        self.layers = nn.ModuleList([EncoderLayer(hidden_dim, n_heads, ff_dim, drop_p) for _ in range(n_layers)])\n",
        "        #nn.Sequential은 하나밖에 입력을 못받으니까 ModuleList로 변경\n",
        "        self.dropout = nn.Dropout(drop_p)\n",
        "\n",
        "        self.scale = torch.sqrt(torch.tensor(hid_dim)).to(DEVICE)\n",
        "\n",
        "    def forward(self, src, mask):\n",
        "         # src.shape = [문장 x 단어], mask.shape = [문장 x 헤드 x 단어 x 단어]\n",
        "\n",
        "        pos = torch.arange(src.shape[1]).repeat(src.shape[0], 1).to(DEVICE)\n",
        "        # pos.shape= [문장 x단어], (단어의 개수만큼 index쓰고, 문장수만큼 반복)\n",
        "\n",
        "        x = self.scale*self.input_embedding(src) + self.pos_embedding(pos)\n",
        "        #x.shape=[문장 x 단어 x 차원(512)] , input embedding과 positional encoding이 합쳐짐.\n",
        "        # self.scale 을 곱해주면 position 보다 의미정보를 더 보게 된다\n",
        "        #(gradient에 self.scale 만큼이 더 곱해짐)\n",
        "        x = self.dropout(x)\n",
        "\n",
        "        atten_encs = torch.tensor([]).to(DEVICE)\n",
        "        for layer in self.layers:\n",
        "            x, atten_enc = layer(x, mask)\n",
        "            atten_encs = torch.stack([atten_encs , atten_enc], dim=0)\n",
        "            # [encoder layer x 문장 x 헤드 x 단어 단어]\n",
        "\n",
        "        return x, atten_encs"
      ],
      "metadata": {
        "id": "Xjij768fqqcd"
      },
      "execution_count": null,
      "outputs": []
    },
    {
      "cell_type": "markdown",
      "source": [
        "# Masked MHA"
      ],
      "metadata": {
        "id": "5yh99H42qsZV"
      }
    },
    {
      "cell_type": "code",
      "source": [
        "if mask is not None:\n",
        "            attention_score[mask] = -1e10 # mask.shape = 개헤단단\n",
        "\n",
        " class Transformer(nn.Module):\n",
        "    def __init__(self, src_dim, trg_dim, max_len, hidden_dim, n_heads, n_layers, ff_dim, drop_p):\n",
        "        super().__init__()\n",
        "\n",
        "        self.src_pad_idx = SRC.vocab.stoi['<pad>'] #입력문장의 <pad> 토큰의 인덱스\n",
        "        self.trg_pad_idx = TRG.vocab.stoi['<pad>'] #출력문장의 <pad> 토큰의 인덱스\n",
        "\n",
        "    def make_enc_mask(self, src): # src.shape = [문장 x 단어]\n",
        "\n",
        "        #<pad> 토큰에 attention하면 의미가 없지 않아? 그래서 삭제시키고 싶음.\n",
        "        enc_mask = (src == self.src_pad_idx).unsqueeze(1).unsqueeze(2) # [문장 x 1 x 1 x 단어]\n",
        "        enc_mask = enc_mask.repeat(1, self.n_heads, src.shape[1], 1) # [문장 x 헤드 x 단어 x 단어]\n",
        "        # repeat은 뒤를 맞춘 후 element-wise multiply를 하면 차원이 나옴.\n",
        "\n",
        "        return enc_mask\n",
        "\n",
        "    def make_dec_mask(self, trg): # trg.shape = [문장 x 단어]\n",
        "\n",
        "        #일단 pad 토큰 True 변환\n",
        "\n",
        "        #<pad> 토큰에 attention하면 의미가 없지 않아? 그래서 삭제시키고 싶음.\n",
        "        dec_pad_mask = (src == self.trg_pad_idx).unsqueeze(1).unsqueeze(2) # [문장 x 1 x 1 x 단어]\n",
        "        dec_pad_mask = enc_mask.repeat(1, self.n_heads, trg.shape[1], 1) # [문장 x 헤드 x 단어 x 단어]\n",
        "        # repeat은 뒤를 맞춘 후 element-wise multiply를 하면 차원이 나옴.\n",
        "\n",
        "        # 뒷 단어를 보지 못하도록 mask를 하기 위해서 아래와 같은 mask 행렬을 만듦(by torch.tril)\n",
        "        \"\"\" decoder mask\n",
        "        F T T T T\n",
        "        F F T T T\n",
        "        F F F T T\n",
        "        F F F F T\n",
        "        F F F F F\n",
        "        \"\"\"\n",
        "        trg_dec_mask = torch.tril(torch.ones(trg.shape[0], self.n_heads, trg.shape[1], trg.shape[1]))==0\n",
        "        # [문장 x 헤드 x 단어 x 단어]\n",
        "        trg_dec_mask = trg_dec_mask.to(DEVICE)\n",
        "\n",
        "        #하나라도 mask가 True면 mask (OR)\n",
        "        dec_mask = trg_pad_mask | trg_dec_mask\n",
        "\n",
        "        return dec_mask\n",
        "\n",
        "    def make_enc_dec_mask(self, src, trg):\n",
        "\n",
        "        #KEY에 대해 MASK를 하는 것이므로 <pad>만 마스크해준다.\n",
        "\n",
        "        enc_dec_mask = (src == self.src_pad_idx).unsqueeze(1).unsqueeze(2) # [문장 x 1 x 1 x 단어]\n",
        "        enc_dec_mask = enc_dec_mask.repeat(1, self.n_heads, trg.shape[1], 1) # [문장 x 헤드 x 단어 x 단어]\n",
        "\n",
        "        return enc_dec_mask"
      ],
      "metadata": {
        "id": "91NXs9IVqu_N"
      },
      "execution_count": null,
      "outputs": []
    },
    {
      "cell_type": "markdown",
      "source": [
        "# Decoder Layer"
      ],
      "metadata": {
        "id": "McLI04Y2q5yI"
      }
    },
    {
      "cell_type": "code",
      "source": [
        "class DecoderLayer(nn.Module):\n",
        "    def __init__(self, hidden_dim, n_heads, ff_dim, drop_p):\n",
        "        super().__init__()\n",
        "\n",
        "        # masked MHA\n",
        "        self.self_atten = MHA(hidden_dim, n_heads) #multihead attn을 진행+ add\n",
        "        self.self_atten_LN = nn.LN(hidden_dim)  #layer norm\n",
        "\n",
        "        # enc-dec MHA\n",
        "        self.enc_dec_atten = MHA(hidden_dim, n_heads) #multihead attn을 진행+ add\n",
        "        self.enc_dec_atten_LN = nn.LN(hidden_dim)  #layer norm\n",
        "\n",
        "        self.FF = FFN(hidden_dim, ff_dim, drop_p)  #다음단어 예측 확률 반환을 위한 ff\n",
        "        self.FF_LN = nn.LayerNorm(hidden_dim)   #layer norm\n",
        "\n",
        "        self.dropout = nn.Dropout(drop_p)\n",
        "\n",
        "    def forward(self, x, enc_out, dec_mask, enc_dec_mask):\n",
        "\n",
        "        residual, atten_dec = self.self_atten(x, x, x, dec_mask)\n",
        "        residual = self.dropout(residual)#dropout을 시킨 것이 residual\n",
        "        x = self.self_atten_LN(x + residual) #원래 입력 x + x와의 잔차 residual\n",
        "\n",
        "        residual, atten_enc_dec = self.enc_dec_atten(x, enc_out, enc_out, enc_dec_mask)\n",
        "        # Q는 디코더로부터 K,V는 인코더로부터!!\n",
        "        residual = self.dropout(residual)\n",
        "        x = self.enc_dec_atten_LN(x + residual)\n",
        "\n",
        "        residual = self.FF(x)\n",
        "        residual = self.dropout(residual)\n",
        "        x = self.FF_LN(x + residual)\n",
        "\n",
        "        return x, atten_dec, atten_enc_dec #층마다 attention score를 보기 위함.\n",
        "\n"
      ],
      "metadata": {
        "id": "JbZPHWdrq4AO"
      },
      "execution_count": null,
      "outputs": []
    },
    {
      "cell_type": "markdown",
      "source": [
        "# Decoder"
      ],
      "metadata": {
        "id": "cw6Sw0BBrA3v"
      }
    },
    {
      "cell_type": "code",
      "source": [
        "class Decoder(nn.Module):\n",
        "    def __init__(self, trg_dim, max_len, hidden_dim, n_heads, n_layers, ff_dim, drop_p):\n",
        "        super().__init__()\n",
        "\n",
        "        self.tok_embedding = nn.Embedding(trg_dim, hidden_dim)\n",
        "        self.pos_embedding = nn.Embedding(max_len, hidden_dim)\n",
        "\n",
        "        self.layers = nn.ModuleList([DecoderLayer(hidden_dim, n_heads, ff_dim, drop_p) for _ in range(n_layers)])\n",
        "        self.fc_out = nn.Linear(hidden_dim, trg_dim)\n",
        "\n",
        "        self.dropout = nn.Dropout(drop_p)\n",
        "\n",
        "        self.scale = torch.sqrt(torch.tensor(hidden_dim)).to(DEVICE)\n",
        "\n",
        "    def forward(self, trg, enc_out, dec_mask, enc_dec_mask): # trg.shape = 개단, enc_out.shape = 개단채, dec_mask.shape = 개헤단단\n",
        "\n",
        "        pos = torch.arange(trg.shape[1]).repeat(trg.shape[0], 1).to(DEVICE) # 개단\n",
        "\n",
        "        x = self.scale*self.tok_embedding(trg) + self.pos_embedding(pos) # [문장 x 단어 x 차원(512)]\n",
        "        # self.scale 을 곱해주면 position 보다 token 정보를 더 보게 된다 (gradient에 self.scale 만큼이 더 곱해짐)\n",
        "        x = self.dropout(x)\n",
        "\n",
        "        atten_decs = torch.tensor([]).to(DEVICE)\n",
        "        atten_enc_decs = torch.tensor([]).to(DEVICE)\n",
        "        for layer in self.layers:\n",
        "            x, atten_dec, atten_enc_dec = layer(x, enc_out, dec_mask, enc_dec_mask)\n",
        "            atten_decs = torch.stack([atten_decs , atten_dec], dim=0)\n",
        "            # [dec_layer x 문헤단단 ]\n",
        "            atten_enc_decs = torch.stack([atten_enc_decs , atten_enc_dec], dim=0)\n",
        "            # [end_dec layer x 문헤단단]\n",
        "\n",
        "        x = self.fc_out(x)\n",
        "\n",
        "        return x, atten_decs, atten_enc_decs"
      ],
      "metadata": {
        "id": "jF_Ug6H6rCIU"
      },
      "execution_count": null,
      "outputs": []
    }
  ]
}
